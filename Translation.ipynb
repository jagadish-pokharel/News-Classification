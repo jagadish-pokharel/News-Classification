{
 "cells": [
  {
   "cell_type": "code",
   "execution_count": 10,
   "id": "55d56c06-33df-4ab7-a033-8475df045d36",
   "metadata": {
    "scrolled": true
   },
   "outputs": [
    {
     "name": "stdout",
     "output_type": "stream",
     "text": [
      "Libraries imported successfully.\n"
     ]
    }
   ],
   "source": [
    "import pandas as pd\n",
    "import numpy as np\n",
    "import matplotlib.pyplot as plt\n",
    "import seaborn as sns\n",
    "from sklearn.model_selection import train_test_split\n",
    "from sklearn.preprocessing import LabelEncoder\n",
    "from sklearn.metrics import classification_report, confusion_matrix\n",
    "\n",
    "from datasets import load_dataset\n",
    "from transformers import BertTokenizer, BertForSequenceClassification\n",
    "# Import standard Adam from torch.optim\n",
    "import torch.optim as optim\n",
    "from transformers.optimization import get_linear_schedule_with_warmup # We still use this scheduler\n",
    "\n",
    "import torch\n",
    "from torch.utils.data import Dataset, DataLoader\n",
    "from tqdm.auto import tqdm # For progress bars\n",
    "\n",
    "print(\"Libraries imported successfully.\")"
   ]
  },
  {
   "cell_type": "code",
   "execution_count": 6,
   "id": "19c80a8b-a286-47e9-bd50-396cc60ab591",
   "metadata": {},
   "outputs": [
    {
     "name": "stdout",
     "output_type": "stream",
     "text": [
      "\n",
      "--- Part 1: Loading `ag_news` dataset from Hugging Face ---\n"
     ]
    },
    {
     "name": "stderr",
     "output_type": "stream",
     "text": [
      "Generating train split: 100%|█| 120000/120000 [00:00<00:00, 655537.54 examples/s\n",
      "Generating test split: 100%|█████| 7600/7600 [00:00<00:00, 499165.52 examples/s]"
     ]
    },
    {
     "name": "stdout",
     "output_type": "stream",
     "text": [
      "Loaded 'ag_news' dataset.\n",
      "Train split size: 120000 articles\n",
      "Test split size: 7600 articles\n",
      "\n",
      "Train DataFrame Head:\n",
      "                                                text  label\n",
      "0  Wall St. Bears Claw Back Into the Black (Reute...      2\n",
      "1  Carlyle Looks Toward Commercial Aerospace (Reu...      2\n",
      "2  Oil and Economy Cloud Stocks' Outlook (Reuters...      2\n",
      "3  Iraq Halts Oil Exports from Main Southern Pipe...      2\n",
      "4  Oil prices soar to all-time record, posing new...      2\n",
      "\n",
      "Train DataFrame Columns:\n",
      "['text', 'label']\n",
      "\n",
      "Train DataFrame Info:\n",
      "<class 'pandas.core.frame.DataFrame'>\n",
      "RangeIndex: 120000 entries, 0 to 119999\n",
      "Data columns (total 2 columns):\n",
      " #   Column  Non-Null Count   Dtype \n",
      "---  ------  --------------   ----- \n",
      " 0   text    120000 non-null  object\n",
      " 1   label   120000 non-null  int64 \n",
      "dtypes: int64(1), object(1)\n",
      "memory usage: 1.8+ MB\n",
      "\n",
      "Class Distribution in Train Split:\n",
      "label\n",
      "2    30000\n",
      "3    30000\n",
      "1    30000\n",
      "0    30000\n",
      "Name: count, dtype: int64\n"
     ]
    },
    {
     "name": "stderr",
     "output_type": "stream",
     "text": [
      "\n"
     ]
    }
   ],
   "source": [
    "# --- Part 1: Data Acquisition (Hugging Face `ag_news`) & Initial Inspection ---\n",
    "\n",
    "try:\n",
    "    print(\"\\n--- Part 1: Loading `ag_news` dataset from Hugging Face ---\")\n",
    "    dataset = load_dataset(\"ag_news\")\n",
    "\n",
    "    # The 'ag_news' dataset has 'train' and 'test' splits\n",
    "    train_hf_dataset = dataset['train']\n",
    "    test_hf_dataset = dataset['test']\n",
    "\n",
    "    print(f\"Loaded 'ag_news' dataset.\")\n",
    "    print(f\"Train split size: {len(train_hf_dataset)} articles\")\n",
    "    print(f\"Test split size: {len(test_hf_dataset)} articles\")\n",
    "\n",
    "    # Convert to Pandas DataFrames for easier initial inspection and preprocessing\n",
    "    train_df = train_hf_dataset.to_pandas()\n",
    "    test_df = test_hf_dataset.to_pandas()\n",
    "\n",
    "    print(\"\\nTrain DataFrame Head:\")\n",
    "    print(train_df.head())\n",
    "    print(\"\\nTrain DataFrame Columns:\")\n",
    "    print(train_df.columns.tolist())\n",
    "    print(\"\\nTrain DataFrame Info:\")\n",
    "    train_df.info()\n",
    "\n",
    "    print(\"\\nClass Distribution in Train Split:\")\n",
    "    # 'ag_news' labels are 0, 1, 2, 3. The dataset card says:\n",
    "    # 0: World, 1: Sports, 2: Business, 3: Sci/Tech\n",
    "    print(train_df['label'].value_counts())\n",
    "\n",
    "except Exception as e:\n",
    "    print(f\"ERROR: Could not load `ag_news` dataset: {e}\")\n",
    "    print(\"Please ensure you have an active internet connection and `datasets` library is installed.\")\n",
    "    exit()"
   ]
  },
  {
   "cell_type": "code",
   "execution_count": 7,
   "id": "34cf5711-f2f2-4ba0-a1f7-cbbb413f3278",
   "metadata": {},
   "outputs": [
    {
     "name": "stdout",
     "output_type": "stream",
     "text": [
      "\n",
      "--- Part 2: Preprocessing & Preparing Data for BERT ---\n",
      "\n",
      "Number of unique labels: 4\n",
      "Label classes: ['Business' 'Sci/Tech' 'Sports' 'World']\n",
      "\n",
      "BERT Tokenizer 'bert-base-uncased' loaded.\n",
      "\n",
      "DataLoaders created with MAX_LEN=128, BATCH_SIZE=16.\n",
      "Number of training batches: 6750\n",
      "Number of validation batches: 750\n",
      "Number of test batches: 475\n",
      "\n",
      "Sample batch shapes - input_ids: torch.Size([16, 128]), labels: torch.Size([16])\n",
      "Sample labels: [3, 3, 2, 2, 0, 3, 3, 3, 2, 1, 3, 3, 3, 1, 1, 2]\n"
     ]
    }
   ],
   "source": [
    "# --- Part 2: Preprocessing & Preparing Data for BERT ---\n",
    "\n",
    "print(\"\\n--- Part 2: Preprocessing & Preparing Data for BERT ---\")\n",
    "\n",
    "# 1. Map numerical labels to actual category names (for readability)\n",
    "# Based on ag_news dataset card: 0: World, 1: Sports, 2: Business, 3: Sci/Tech\n",
    "label_map = {0: 'World', 1: 'Sports', 2: 'Business', 3: 'Sci/Tech'}\n",
    "train_df['category_name'] = train_df['label'].map(label_map)\n",
    "test_df['category_name'] = test_df['label'].map(label_map)\n",
    "\n",
    "# Use LabelEncoder to ensure consistent integer labels (though ag_news already has them, good practice)\n",
    "label_encoder = LabelEncoder()\n",
    "# Fit on the full set of unique labels to ensure all are covered\n",
    "all_labels = pd.concat([train_df['category_name'], test_df['category_name']]).unique()\n",
    "label_encoder.fit(all_labels)\n",
    "\n",
    "train_labels_encoded = label_encoder.transform(train_df['category_name'])\n",
    "test_labels_encoded = label_encoder.transform(test_df['category_name'])\n",
    "num_labels = len(label_encoder.classes_)\n",
    "\n",
    "print(f\"\\nNumber of unique labels: {num_labels}\")\n",
    "print(f\"Label classes: {label_encoder.classes_}\")\n",
    "\n",
    "\n",
    "# 2. Split a small validation set from the training data (optional but good practice)\n",
    "# ag_news already provides a test set, so we'll just split train for validation.\n",
    "train_texts, val_texts, train_labels, val_labels = train_test_split(\n",
    "    train_df['text'].tolist(),\n",
    "    train_labels_encoded,\n",
    "    test_size=0.1, # 10% of training data for validation\n",
    "    random_state=42,\n",
    "    stratify=train_labels_encoded # Important to maintain class distribution\n",
    ")\n",
    "test_texts = test_df['text'].tolist()\n",
    "test_labels = test_labels_encoded\n",
    "\n",
    "\n",
    "# 3. Load BERT Tokenizer\n",
    "model_name = 'bert-base-uncased' # A good general-purpose BERT model\n",
    "tokenizer = BertTokenizer.from_pretrained(model_name)\n",
    "print(f\"\\nBERT Tokenizer '{model_name}' loaded.\")\n",
    "\n",
    "\n",
    "# 4. Create Custom Dataset Class for PyTorch\n",
    "class NewsDataset(Dataset):\n",
    "    def __init__(self, texts, labels, tokenizer, max_len):\n",
    "        self.texts = texts\n",
    "        self.labels = labels\n",
    "        self.tokenizer = tokenizer\n",
    "        self.max_len = max_len\n",
    "\n",
    "    def __len__(self):\n",
    "        return len(self.texts)\n",
    "\n",
    "    def __getitem__(self, idx):\n",
    "        text = str(self.texts[idx])\n",
    "        label = self.labels[idx]\n",
    "\n",
    "        # Use encode_plus for comprehensive encoding\n",
    "        encoding = self.tokenizer.encode_plus(\n",
    "            text,\n",
    "            add_special_tokens=True,        # Add '[CLS]' and '[SEP]'\n",
    "            max_length=self.max_len,        # Pad/truncate all texts to max_len\n",
    "            return_token_type_ids=True,     # Return token type IDs (segment IDs)\n",
    "            padding='max_length',           # Pad to max_len\n",
    "            truncation=True,                # Truncate to max_len\n",
    "            return_attention_mask=True,     # Return attention mask\n",
    "            return_tensors='pt',            # Return PyTorch tensors\n",
    "        )\n",
    "\n",
    "        return {\n",
    "            'input_ids': encoding['input_ids'].flatten(),\n",
    "            'attention_mask': encoding['attention_mask'].flatten(),\n",
    "            'token_type_ids': encoding['token_type_ids'].flatten(),\n",
    "            'labels': torch.tensor(label, dtype=torch.long)\n",
    "        }\n",
    "\n",
    "# Define hyperparameters for data preparation\n",
    "MAX_LEN = 128 # Max sequence length (adjust if your articles are very long/short after inspection)\n",
    "BATCH_SIZE = 16 # Adjust based on your GPU/RAM (16, 32, 64 are common)\n",
    "\n",
    "# Create Dataset and DataLoader instances\n",
    "train_dataset = NewsDataset(train_texts, train_labels, tokenizer, MAX_LEN)\n",
    "val_dataset = NewsDataset(val_texts, val_labels, tokenizer, MAX_LEN)\n",
    "test_dataset = NewsDataset(test_texts, test_labels, tokenizer, MAX_LEN)\n",
    "\n",
    "train_loader = DataLoader(train_dataset, batch_size=BATCH_SIZE, shuffle=True)\n",
    "val_loader = DataLoader(val_dataset, batch_size=BATCH_SIZE)\n",
    "test_loader = DataLoader(test_dataset, batch_size=BATCH_SIZE)\n",
    "\n",
    "print(f\"\\nDataLoaders created with MAX_LEN={MAX_LEN}, BATCH_SIZE={BATCH_SIZE}.\")\n",
    "print(f\"Number of training batches: {len(train_loader)}\")\n",
    "print(f\"Number of validation batches: {len(val_loader)}\")\n",
    "print(f\"Number of test batches: {len(test_loader)}\")\n",
    "\n",
    "# Quick check of a batch\n",
    "try:\n",
    "    batch = next(iter(train_loader))\n",
    "    print(f\"\\nSample batch shapes - input_ids: {batch['input_ids'].shape}, labels: {batch['labels'].shape}\")\n",
    "    print(f\"Sample labels: {batch['labels'].tolist()}\")\n",
    "except Exception as e:\n",
    "    print(f\"ERROR: Could not get a sample batch from DataLoader: {e}\")"
   ]
  },
  {
   "cell_type": "code",
   "execution_count": 8,
   "id": "18749851-c6ee-4873-bb8e-a5edc8d8b608",
   "metadata": {},
   "outputs": [
    {
     "name": "stdout",
     "output_type": "stream",
     "text": [
      "\n",
      "--- Part 3: Load BERT Model & Fine-tuning ---\n"
     ]
    },
    {
     "name": "stderr",
     "output_type": "stream",
     "text": [
      "Some weights of BertForSequenceClassification were not initialized from the model checkpoint at bert-base-uncased and are newly initialized: ['classifier.bias', 'classifier.weight']\n",
      "You should probably TRAIN this model on a down-stream task to be able to use it for predictions and inference.\n"
     ]
    },
    {
     "name": "stdout",
     "output_type": "stream",
     "text": [
      "Using device: cuda\n"
     ]
    }
   ],
   "source": [
    "# --- Part 3: Load BERT Model & Fine-tuning ---\n",
    "\n",
    "print(\"\\n--- Part 3: Load BERT Model & Fine-tuning ---\")\n",
    "\n",
    "# 1. Load Pre-trained BERT Model for Sequence Classification\n",
    "model = BertForSequenceClassification.from_pretrained(model_name, num_labels=num_labels)\n",
    "\n",
    "# Set up device (GPU if available, else CPU)\n",
    "device = torch.device('cuda' if torch.cuda.is_available() else 'cpu')\n",
    "model.to(device)\n",
    "print(f\"Using device: {device}\")"
   ]
  },
  {
   "cell_type": "code",
   "execution_count": 11,
   "id": "6b6d143c-6ea5-4909-b67d-475bd4fb0b73",
   "metadata": {},
   "outputs": [],
   "source": [
    "# 2. Define Training Parameters (MODIFIED OPTIMIZER)\n",
    "EPOCHS = 3\n",
    "LEARNING_RATE = 2e-5 # Keep a similar learning rate\n",
    "# Adam has a `weight_decay` parameter directly in its constructor for L2 regularization.\n",
    "# Common values for weight_decay for Adam are 0.01 or 0.\n",
    "# For AdamW, weight decay is applied *after* the update, for Adam, it's *during* the update.\n",
    "WEIGHT_DECAY = 0.01 # L2 regularization\n",
    "\n",
    "# Using torch.optim.Adam\n",
    "optimizer = optim.Adam(model.parameters(), lr=LEARNING_RATE, weight_decay=WEIGHT_DECAY)\n",
    "\n",
    "total_steps = len(train_loader) * EPOCHS\n",
    "scheduler = get_linear_schedule_with_warmup(\n",
    "    optimizer,\n",
    "    num_warmup_steps=0, # No warm-up for simplicity\n",
    "    num_training_steps=total_steps\n",
    ")\n",
    "loss_fn = torch.nn.CrossEntropyLoss().to(device)"
   ]
  },
  {
   "cell_type": "code",
   "execution_count": 12,
   "id": "3709f4ce-1695-49ba-8d08-39351e977aea",
   "metadata": {},
   "outputs": [],
   "source": [
    "# 3. Define Training and Evaluation Functions (no changes needed, as they use optimizer.step() etc.)\n",
    "def train_epoch(model, data_loader, loss_fn, optimizer, device, scheduler):\n",
    "    model.train()\n",
    "    losses = []\n",
    "    correct_predictions = 0\n",
    "\n",
    "    for batch in tqdm(data_loader, desc=\"Training\"):\n",
    "        input_ids = batch['input_ids'].to(device)\n",
    "        attention_mask = batch['attention_mask'].to(device)\n",
    "        token_type_ids = batch['token_type_ids'].to(device)\n",
    "        labels = batch['labels'].to(device)\n",
    "\n",
    "        outputs = model(\n",
    "            input_ids=input_ids,\n",
    "            attention_mask=attention_mask,\n",
    "            token_type_ids=token_type_ids,\n",
    "            labels=labels\n",
    "        )\n",
    "\n",
    "        loss = outputs.loss\n",
    "        logits = outputs.logits\n",
    "        losses.append(loss.item())\n",
    "\n",
    "        _, preds = torch.max(logits, dim=1)\n",
    "        correct_predictions += torch.sum(preds == labels)\n",
    "\n",
    "        loss.backward()\n",
    "        torch.nn.utils.clip_grad_norm_(model.parameters(), 1.0)\n",
    "        optimizer.step()\n",
    "        scheduler.step()\n",
    "        optimizer.zero_grad()\n",
    "\n",
    "    return correct_predictions.double() / len(data_loader.dataset), np.mean(losses)"
   ]
  },
  {
   "cell_type": "code",
   "execution_count": 13,
   "id": "07746cd4-5c2e-4861-b318-6fa5d0a12ebc",
   "metadata": {},
   "outputs": [],
   "source": [
    "def eval_model(model, data_loader, loss_fn, device):\n",
    "    model.eval()\n",
    "    losses = []\n",
    "    correct_predictions = 0\n",
    "\n",
    "    with torch.no_grad():\n",
    "        for batch in tqdm(data_loader, desc=\"Evaluating\"):\n",
    "            input_ids = batch['input_ids'].to(device)\n",
    "            attention_mask = batch['attention_mask'].to(device)\n",
    "            token_type_ids = batch['token_type_ids'].to(device)\n",
    "            labels = batch['labels'].to(device)\n",
    "\n",
    "            outputs = model(\n",
    "                input_ids=input_ids,\n",
    "                attention_mask=attention_mask,\n",
    "                token_type_ids=token_type_ids,\n",
    "                labels=labels\n",
    "            )\n",
    "            loss = outputs.loss\n",
    "            logits = outputs.logits\n",
    "            losses.append(loss.item())\n",
    "\n",
    "            _, preds = torch.max(logits, dim=1)\n",
    "            correct_predictions += torch.sum(preds == labels)\n",
    "\n",
    "    return correct_predictions.double() / len(data_loader.dataset), np.mean(losses)\n"
   ]
  },
  {
   "cell_type": "code",
   "execution_count": 14,
   "id": "ef165aec-da4a-454e-8579-80617d2270c4",
   "metadata": {},
   "outputs": [
    {
     "name": "stdout",
     "output_type": "stream",
     "text": [
      "\n",
      "--- Starting Fine-tuning Loop ---\n",
      "\n",
      "Epoch 1/3\n"
     ]
    },
    {
     "name": "stderr",
     "output_type": "stream",
     "text": [
      "Training: 100%|█████████████████████████████| 6750/6750 [41:29<00:00,  2.71it/s]\n",
      "Evaluating: 100%|█████████████████████████████| 750/750 [01:20<00:00,  9.28it/s]\n"
     ]
    },
    {
     "name": "stdout",
     "output_type": "stream",
     "text": [
      "Train loss: 0.5813, Train accuracy: 0.8104\n",
      "Validation loss: 0.5511, Validation accuracy: 0.8352\n",
      "Saved best model state_dict.\n",
      "\n",
      "Epoch 2/3\n"
     ]
    },
    {
     "name": "stderr",
     "output_type": "stream",
     "text": [
      "Training: 100%|█████████████████████████████| 6750/6750 [41:28<00:00,  2.71it/s]\n",
      "Evaluating: 100%|█████████████████████████████| 750/750 [01:21<00:00,  9.24it/s]\n"
     ]
    },
    {
     "name": "stdout",
     "output_type": "stream",
     "text": [
      "Train loss: 0.7743, Train accuracy: 0.7225\n",
      "Validation loss: 0.7656, Validation accuracy: 0.6787\n",
      "\n",
      "Epoch 3/3\n"
     ]
    },
    {
     "name": "stderr",
     "output_type": "stream",
     "text": [
      "Training: 100%|█████████████████████████████| 6750/6750 [41:50<00:00,  2.69it/s]\n",
      "Evaluating: 100%|█████████████████████████████| 750/750 [01:20<00:00,  9.28it/s]"
     ]
    },
    {
     "name": "stdout",
     "output_type": "stream",
     "text": [
      "Train loss: 0.7794, Train accuracy: 0.7034\n",
      "Validation loss: 0.7356, Validation accuracy: 0.7088\n",
      "\n",
      "Fine-tuning complete.\n"
     ]
    },
    {
     "name": "stderr",
     "output_type": "stream",
     "text": [
      "\n"
     ]
    }
   ],
   "source": [
    "# 4. Run Fine-tuning Loop\n",
    "history = []\n",
    "best_accuracy = 0.0\n",
    "\n",
    "print(\"\\n--- Starting Fine-tuning Loop ---\")\n",
    "for epoch in range(EPOCHS):\n",
    "    print(f\"\\nEpoch {epoch + 1}/{EPOCHS}\")\n",
    "    train_acc, train_loss = train_epoch(model, train_loader, loss_fn, optimizer, device, scheduler)\n",
    "    val_acc, val_loss = eval_model(model, val_loader, loss_fn, device)\n",
    "\n",
    "    print(f\"Train loss: {train_loss:.4f}, Train accuracy: {train_acc:.4f}\")\n",
    "    print(f\"Validation loss: {val_loss:.4f}, Validation accuracy: {val_acc:.4f}\")\n",
    "\n",
    "    history.append({\n",
    "        'epoch': epoch + 1,\n",
    "        'train_loss': train_loss,\n",
    "        'train_acc': train_acc.item(),\n",
    "        'val_loss': val_loss,\n",
    "        'val_acc': val_acc.item()\n",
    "    })\n",
    "\n",
    "    if val_acc > best_accuracy:\n",
    "        torch.save(model.state_dict(), 'best_bert_classifier_agnews_adam.pth') # Changed filename\n",
    "        best_accuracy = val_acc\n",
    "        print(\"Saved best model state_dict.\")\n",
    "\n",
    "print(\"\\nFine-tuning complete.\")\n"
   ]
  },
  {
   "cell_type": "code",
   "execution_count": 15,
   "id": "241f63b1-9eb9-44d0-8e7d-3fa1ff4c3c86",
   "metadata": {},
   "outputs": [
    {
     "name": "stdout",
     "output_type": "stream",
     "text": [
      "\n",
      "--- Part 4: Evaluation on Test Set ---\n",
      "Loaded best model for evaluation.\n"
     ]
    },
    {
     "name": "stderr",
     "output_type": "stream",
     "text": [
      "Predicting on Test Set: 100%|█████████████████| 475/475 [00:51<00:00,  9.17it/s]\n"
     ]
    },
    {
     "name": "stdout",
     "output_type": "stream",
     "text": [
      "\n",
      "--- Classification Report on Test Set ---\n",
      "              precision    recall  f1-score   support\n",
      "\n",
      "    Business       0.81      0.75      0.78      1900\n",
      "    Sci/Tech       0.74      0.78      0.76      1900\n",
      "      Sports       0.94      0.95      0.94      1900\n",
      "       World       0.82      0.82      0.82      1900\n",
      "\n",
      "    accuracy                           0.83      7600\n",
      "   macro avg       0.83      0.83      0.83      7600\n",
      "weighted avg       0.83      0.83      0.83      7600\n",
      "\n"
     ]
    },
    {
     "data": {
      "image/png": "[encoded data removed]",
      "text/plain": [
       "<Figure size 800x600 with 2 Axes>"
      ]
     },
     "metadata": {},
     "output_type": "display_data"
    },
    {
     "name": "stdout",
     "output_type": "stream",
     "text": [
      "\n",
      "--- Part 5: Inference on New Text ---\n",
      "\n",
      "New Article 1: 'Scientists have made a breakthrough in fusion energy, promising clean power for the future.'\n",
      "Predicted Category: Sci/Tech (Confidence: 0.70)\n",
      "\n",
      "New Article 2: 'Nepal's tourism industry is set to recover strongly as international arrivals surge.'\n",
      "Predicted Category: Sci/Tech (Confidence: 0.70)\n",
      "\n",
      "New Article 3: 'Real Madrid triumphed over Barcelona in a thrilling El Clásico match.'\n",
      "Predicted Category: Sports (Confidence: 0.85)\n",
      "\n",
      "New Article 4: 'The latest smartphone boasts a revolutionary new camera system and faster processor.'\n",
      "Predicted Category: Sci/Tech (Confidence: 0.68)\n"
     ]
    }
   ],
   "source": [
    "# --- Part 4: Evaluation on Test Set (MODIFIED FILENAME) ---\n",
    "\n",
    "print(\"\\n--- Part 4: Evaluation on Test Set ---\")\n",
    "\n",
    "try:\n",
    "    model.load_state_dict(torch.load('best_bert_classifier_agnews_adam.pth')) # Changed filename\n",
    "    model.to(device)\n",
    "    model.eval()\n",
    "    print(\"Loaded best model for evaluation.\")\n",
    "except FileNotFoundError:\n",
    "    print(\"ERROR: 'best_bert_classifier_agnews_adam.pth' not found. Did the training complete successfully?\")\n",
    "    exit()\n",
    "\n",
    "def get_predictions(model, data_loader, device):\n",
    "    model.eval()\n",
    "    predictions = []\n",
    "    true_labels = []\n",
    "    with torch.no_grad():\n",
    "        for batch in tqdm(data_loader, desc=\"Predicting on Test Set\"):\n",
    "            input_ids = batch['input_ids'].to(device)\n",
    "            attention_mask = batch['attention_mask'].to(device)\n",
    "            token_type_ids = batch['token_type_ids'].to(device)\n",
    "            labels = batch['labels'].to(device)\n",
    "\n",
    "            outputs = model(\n",
    "                input_ids=input_ids,\n",
    "                attention_mask=attention_mask,\n",
    "                token_type_ids=token_type_ids\n",
    "            )\n",
    "            logits = outputs.logits\n",
    "            _, preds = torch.max(logits, dim=1)\n",
    "\n",
    "            predictions.extend(preds.cpu().tolist())\n",
    "            true_labels.extend(labels.cpu().tolist())\n",
    "    return predictions, true_labels\n",
    "\n",
    "test_preds, test_true_labels = get_predictions(model, test_loader, device)\n",
    "\n",
    "print(\"\\n--- Classification Report on Test Set ---\")\n",
    "print(classification_report(test_true_labels, test_preds, target_names=label_encoder.classes_))\n",
    "\n",
    "cm = confusion_matrix(test_true_labels, test_preds)\n",
    "plt.figure(figsize=(8, 6))\n",
    "sns.heatmap(\n",
    "    cm,\n",
    "    annot=True,\n",
    "    fmt=\"d\",\n",
    "    cmap=\"Blues\",\n",
    "    xticklabels=label_encoder.classes_,\n",
    "    yticklabels=label_encoder.classes_\n",
    ")\n",
    "plt.xlabel('Predicted Label')\n",
    "plt.ylabel('True Label')\n",
    "plt.title('Confusion Matrix for News Article Classification (Adam Optimizer)')\n",
    "plt.show()\n",
    "\n",
    "# --- Part 5: Inference on New Text (MODIFIED FILENAME) ---\n",
    "# (No changes needed in this part, it will use the loaded model)\n",
    "\n",
    "print(\"\\n--- Part 5: Inference on New Text ---\")\n",
    "\n",
    "def predict_news_category(text, model, tokenizer, label_encoder, device, max_len=128):\n",
    "    model.eval()\n",
    "\n",
    "    encoding = tokenizer.encode_plus(\n",
    "        text,\n",
    "        add_special_tokens=True,\n",
    "        max_length=max_len,\n",
    "        return_token_type_ids=True,\n",
    "        padding='max_length',\n",
    "        truncation=True,\n",
    "        return_attention_mask=True,\n",
    "        return_tensors='pt',\n",
    "    )\n",
    "\n",
    "    input_ids = encoding['input_ids'].to(device)\n",
    "    attention_mask = encoding['attention_mask'].to(device)\n",
    "    token_type_ids = encoding['token_type_ids'].to(device)\n",
    "\n",
    "    with torch.no_grad():\n",
    "        outputs = model(\n",
    "            input_ids=input_ids,\n",
    "            attention_mask=attention_mask,\n",
    "            token_type_ids=token_type_ids\n",
    "        )\n",
    "\n",
    "    logits = outputs.logits\n",
    "    probabilities = torch.softmax(logits, dim=1)\n",
    "    _, predicted_class = torch.max(probabilities, dim=1)\n",
    "\n",
    "    predicted_category = label_encoder.inverse_transform(predicted_class.cpu().numpy())[0]\n",
    "    confidence = probabilities.max().item()\n",
    "\n",
    "    return predicted_category, confidence\n",
    "\n",
    "new_article_1 = \"Scientists have made a breakthrough in fusion energy, promising clean power for the future.\"\n",
    "category_1, confidence_1 = predict_news_category(new_article_1, model, tokenizer, label_encoder, device)\n",
    "print(f\"\\nNew Article 1: '{new_article_1}'\")\n",
    "print(f\"Predicted Category: {category_1} (Confidence: {confidence_1:.2f})\")\n",
    "\n",
    "new_article_2 = \"Nepal's tourism industry is set to recover strongly as international arrivals surge.\"\n",
    "category_2, confidence_2 = predict_news_category(new_article_2, model, tokenizer, label_encoder, device)\n",
    "print(f\"\\nNew Article 2: '{new_article_2}'\")\n",
    "print(f\"Predicted Category: {category_2} (Confidence: {confidence_2:.2f})\")\n",
    "\n",
    "new_article_3 = \"Real Madrid triumphed over Barcelona in a thrilling El Clásico match.\"\n",
    "category_3, confidence_3 = predict_news_category(new_article_3, model, tokenizer, label_encoder, device)\n",
    "print(f\"\\nNew Article 3: '{new_article_3}'\")\n",
    "print(f\"Predicted Category: {category_3} (Confidence: {confidence_3:.2f})\")\n",
    "\n",
    "new_article_4 = \"The latest smartphone boasts a revolutionary new camera system and faster processor.\"\n",
    "category_4, confidence_4 = predict_news_category(new_article_4, model, tokenizer, label_encoder, device)\n",
    "print(f\"\\nNew Article 4: '{new_article_4}'\")\n",
    "print(f\"Predicted Category: {category_4} (Confidence: {confidence_4:.2f})\")"
   ]
  },
  {
   "cell_type": "code",
   "execution_count": null,
   "id": "7001308d-7846-45e7-9316-4ae15024af3f",
   "metadata": {},
   "outputs": [],
   "source": []
  }
 ],
 "metadata": {
  "kernelspec": {
   "display_name": "Python (torch_env)",
   "language": "python",
   "name": "torch_env"
  },
  "language_info": {
   "codemirror_mode": {
    "name": "ipython",
    "version": 3
   },
   "file_extension": ".py",
   "mimetype": "text/x-python",
   "name": "python",
   "nbconvert_exporter": "python",
   "pygments_lexer": "ipython3",
   "version": "3.10.18"
  }
 },
 "nbformat": 4,
 "nbformat_minor": 5
}
